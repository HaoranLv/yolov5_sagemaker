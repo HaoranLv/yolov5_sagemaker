{
 "cells": [
  {
   "cell_type": "code",
   "execution_count": null,
   "metadata": {},
   "outputs": [],
   "source": [
    "!./build_and_push.sh yolov5"
   ]
  },
  {
   "cell_type": "markdown",
   "metadata": {},
   "source": [
    "## Testing your algorithm on your local machine\n",
    "\n",
    "When you're packaging your first algorithm to use with Amazon SageMaker, you probably want to test it yourself to make sure it's working correctly. We use the [SageMaker Python SDK](https://github.com/aws/sagemaker-python-sdk) to test both locally and on SageMaker. For more examples with the SageMaker Python SDK, see [Amazon SageMaker Examples](https://github.com/awslabs/amazon-sagemaker-examples/tree/master/sagemaker-python-sdk). In order to test our algorithm, we need our dataset."
   ]
  },
  {
   "cell_type": "markdown",
   "metadata": {},
   "source": [
    "# Part 1: Packaging and Uploading your Algorithm for use with Amazon SageMaker\n",
    "\n",
    "### An overview of Docker\n",
    "\n",
    "If you're familiar with Docker already, you can skip ahead to the next section.\n",
    "\n",
    "For many data scientists, Docker containers are a new technology. But they are not difficult and can significantly simply the deployment of your software packages. \n",
    "\n",
    "Docker provides a simple way to package arbitrary code into an _image_ that is totally self-contained. Once you have an image, you can use Docker to run a _container_ based on that image. Running a container is just like running a program on the machine except that the container creates a fully self-contained environment for the program to run. Containers are isolated from each other and from the host environment, so the way your program is set up is the way it runs, no matter where you run it.\n",
    "\n",
    "Docker is more powerful than environment managers like `conda` or `virtualenv` because (a) it is completely language independent and (b) it comprises your whole operating environment, including startup commands, and environment variable.\n",
    "\n",
    "A Docker container is like a virtual machine, but it is much lighter weight. For example, a program running in a container can start in less than a second and many containers can run simultaneously on the same physical or virtual machine instance.\n",
    "\n",
    "Docker uses a simple file called a `Dockerfile` to specify how the image is assembled. An example is provided below. You can build your Docker images based on Docker images built by yourself or by others, which can simplify things quite a bit.\n",
    "\n",
    "Docker has become very popular in programming and `devops` communities due to its flexibility and its well-defined specification of how code can be run in its containers. It is the underpinning of many services built in the past few years, such as [Amazon ECS].\n",
    "\n",
    "Amazon SageMaker uses Docker to allow users to train and deploy arbitrary algorithms.\n",
    "\n",
    "In Amazon SageMaker, Docker containers are invoked in a one way for training and another, slightly different, way for hosting. The following sections outline how to build containers for the SageMaker environment.\n",
    "\n",
    "Some helpful links:\n",
    "\n",
    "* [Docker home page](http://www.docker.com)\n",
    "* [Getting started with Docker](https://docs.docker.com/get-started/)\n",
    "* [`Dockerfile` reference](https://docs.docker.com/engine/reference/builder/)\n",
    "* [`docker run` reference](https://docs.docker.com/engine/reference/run/)\n",
    "\n",
    "[Amazon ECS]: https://aws.amazon.com/ecs/\n",
    "\n",
    "### How Amazon SageMaker runs your Docker container\n",
    "\n",
    "Because you can run the same image in training or hosting, Amazon SageMaker runs your container with the argument `train` or `serve`. How your container processes this argument depends on the container.\n",
    "\n",
    "* In this example, we don't define a `ENTRYPOINT` in the `Dockerfile`, so Docker runs the command [`train` at training time](https://docs.aws.amazon.com/sagemaker/latest/dg/your-algorithms-training-algo.html) and [`serve` at serving time](https://docs.aws.amazon.com/sagemaker/latest/dg/your-algorithms-inference-code.html). In this example, we define these as executable Python scripts, but they could be any program that we want to start in that environment.\n",
    "* If you specify a program as a `ENTRYPOINT` in the `Dockerfile`, that program will be run at startup and its first argument will be `train` or `serve`. The program can then look at that argument and decide what to do.\n",
    "* If you are building separate containers for training and hosting (or building only for one or the other), you can define a program as a `ENTRYPOINT` in the `Dockerfile` and ignore (or verify) the first argument passed in.\n",
    "\n",
    "#### Running your container during training\n",
    "\n",
    "When Amazon SageMaker runs training, your `train` script is run, as in a regular Python program. A number of files are laid out for your use, under the `/opt/ml` directory:\n",
    "\n",
    "```\n",
    "    /opt/ml\n",
    "    |-- input\n",
    "    |   |-- config\n",
    "    |   |   |-- hyperparameters.json\n",
    "    |   |    -- resourceConfig.json\n",
    "    |    -- data\n",
    "    |        -- <channel_name>\n",
    "    |            -- <input data>\n",
    "    |-- model\n",
    "    |   -- <model files>\n",
    "     -- output\n",
    "        -- failure\n",
    "```\n",
    "\n",
    "##### The input\n",
    "\n",
    "* `/opt/ml/input/config` contains information to control how your program runs. `hyperparameters.json` is a JSON-formatted dictionary of hyperparameter names to values. These values are always strings, so you may need to convert them. `resourceConfig.json` is a JSON-formatted file that describes the network layout used for distributed training.\n",
    "* `/opt/ml/input/data/<channel_name>/` (for File mode) contains the input data for that channel. The channels are created based on the call to `CreateTrainingJob`, but it's generally important that channels match algorithm expectations. The files for each channel are copied from S3 to this directory, preserving the tree structure indicated by the S3 key structure.\n",
    "* `/opt/ml/input/data/<channel_name>_<epoch_number>` (for Pipe mode) is the pipe for a given epoch. Epochs start at zero and go up by one each time you read them. There is no limit to the number of epochs that you can run, but you must close each pipe before reading the next epoch.\n",
    "\n",
    "##### The output\n",
    "\n",
    "* `/opt/ml/model/` is the directory where you write the model that your algorithm generates. Your model can be in any format that you want. It can be a single file or a whole directory tree. SageMaker packages any files in this directory into a compressed tar archive file. This file is made available at the S3 location returned to the `DescribeTrainingJob` result.\n",
    "* `/opt/ml/output` is a directory where the algorithm can write a file `failure` that describes why the job failed. The contents of this file are returned to the `FailureReason` field of the `DescribeTrainingJob` result. For jobs that succeed, there is no reason to write this file as it is ignored.\n",
    "\n",
    "#### Running your container during hosting\n",
    "\n",
    "Hosting has a very different model than training because hosting is responding to inference requests that come in via HTTP. In this example, we use [TensorFlow Serving](https://www.tensorflow.org/serving/), however the hosting solution can be customized. One example is the [Python serving stack within the `scikit learn` example](https://github.com/awslabs/amazon-sagemaker-examples/blob/master/advanced_functionality/scikit_bring_your_own/scikit_bring_your_own.ipynb).\n",
    "\n",
    "Amazon SageMaker uses two URLs in the container:\n",
    "\n",
    "* `/ping` receives `GET` requests from the infrastructure. Your program returns 200 if the container is up and accepting requests.\n",
    "* `/invocations` is the endpoint that receives client inference `POST` requests. The format of the request and the response is up to the algorithm. If the client supplied `ContentType` and `Accept` headers, these are passed in as well. \n",
    "\n",
    "The container has the model files in the same place that they were written to during training:\n",
    "\n",
    "    /opt/ml\n",
    "    `-- model\n",
    "        `-- <model files>\n",
    "\n"
   ]
  },
  {
   "cell_type": "markdown",
   "metadata": {},
   "source": [
    "## SageMaker Python SDK Local Training\n",
    "To represent our training, we use the Estimator class, which needs to be configured in five steps. \n",
    "1. IAM role - our AWS execution role\n",
    "2. train_instance_count - number of instances to use for training.\n",
    "3. train_instance_type - type of instance to use for training. For training locally, we specify `local` or `local_gpu`.\n",
    "4. image_name - our custom PyTorch Docker image we created.\n",
    "5. hyperparameters - hyperparameters we want to pass.\n",
    "\n",
    "Let's start with setting up our IAM role. We make use of a helper function within the Python SDK. This function throw an exception if run outside of a SageMaker notebook instance, as it gets metadata from the notebook instance. If running outside, you must provide an IAM role with proper access stated above in [Permissions](#Permissions)."
   ]
  },
  {
   "cell_type": "code",
   "execution_count": 28,
   "metadata": {},
   "outputs": [],
   "source": [
    "from sagemaker import get_execution_role\n",
    "\n",
    "role = get_execution_role()"
   ]
  },
  {
   "cell_type": "markdown",
   "metadata": {},
   "source": [
    "## Fit, Deploy, Predict\n",
    "\n",
    "Now that the rest of our estimator is configured, we can call `fit()` with the path to our local CIFAR10 dataset prefixed with `file://`. This invokes our PyTorch container with 'train' and passes in our hyperparameters and other metadata as json files in /opt/ml/input/config within the container to our program entry point defined in the Dockerfile.\n",
    "\n",
    "After our training has succeeded, our training algorithm outputs our trained model within the /opt/ml/model directory, which is used to handle predictions.\n",
    "\n",
    "We can then call `deploy()` with an instance_count and instance_type, which is 1 and `local`. This invokes our PyTorch container with 'serve', which setups our container to handle prediction requests as defined [here](https://github.com/aws/sagemaker-pytorch-container/blob/master/src/sagemaker_pytorch_container/serving.py#L103). What is returned is a predictor, which is used to make inferences against our trained model.\n",
    "\n",
    "After our prediction, we can delete our endpoint.\n",
    "\n",
    "We recommend testing and training your training algorithm locally first, as it provides quicker iterations and better debuggability."
   ]
  },
  {
   "cell_type": "markdown",
   "metadata": {},
   "source": [
    "# Part 2: Training and Hosting your Algorithm in Amazon SageMaker\n",
    "Once you have your container packaged, you can use it to train and serve models. Let's do that with the algorithm we made above.\n",
    "\n",
    "## Set up the environment\n",
    "Here we specify the bucket to use and the role that is used for working with SageMaker."
   ]
  },
  {
   "cell_type": "code",
   "execution_count": 29,
   "metadata": {},
   "outputs": [],
   "source": [
    "# S3 prefix\n",
    "prefix = 'DEMOyolov5'"
   ]
  },
  {
   "cell_type": "markdown",
   "metadata": {},
   "source": [
    "## Data and model configuration preparation"
   ]
  },
  {
   "cell_type": "code",
   "execution_count": 10,
   "metadata": {},
   "outputs": [
    {
     "name": "stdout",
     "output_type": "stream",
     "text": [
      "/home/ec2-user/SageMaker/yolov5_sagemaker/data\n",
      "/home/ec2-user/SageMaker/yolov5_sagemaker\n"
     ]
    }
   ],
   "source": [
    "!aws s3 cp s3://lhr/best.pt ./data/weights/\n",
    "!aws s3 cp s3://lhr/yolov5x6.pt ./data/weights/\n",
    "!aws s3 cp s3://lhr/dp_hj2.zip ./data/ \n",
    "!aws s3 cp s3://lhr/haitian.yaml ./data/cfg/\n",
    "!aws s3 cp s3://lhr/train-args-haitian.json ./data/cfg/\n",
    "%cd data\n",
    "!unzip dp_hj2.zip > /dev/null \n",
    "!rm -rf images\n",
    "!rm -rf labels\n",
    "!cp -r ./dp_hj2/images ./images\n",
    "!cp -r ./dp_hj2/labels ./labels\n",
    "!rm -rf ./dp_hj2\n",
    "%cd .."
   ]
  },
  {
   "cell_type": "markdown",
   "metadata": {},
   "source": [
    "## Create the session\n",
    "\n",
    "The session remembers our connection parameters to SageMaker. We use it to perform all of our SageMaker operations."
   ]
  },
  {
   "cell_type": "code",
   "execution_count": 30,
   "metadata": {},
   "outputs": [],
   "source": [
    "import sagemaker as sage\n",
    "\n",
    "sess = sage.Session()"
   ]
  },
  {
   "cell_type": "markdown",
   "metadata": {},
   "source": [
    "## Upload the data for training\n",
    "\n",
    "We will use the tools provided by the SageMaker Python SDK to upload the data to a default bucket."
   ]
  },
  {
   "cell_type": "code",
   "execution_count": 31,
   "metadata": {},
   "outputs": [
    {
     "name": "stdout",
     "output_type": "stream",
     "text": [
      "{'cfg': 's3://sagemaker-us-east-2-847380964353/DEMOyolov5/cfg', 'weights': 's3://sagemaker-us-east-2-847380964353/DEMOyolov5/weights', 'images': 's3://sagemaker-us-east-2-847380964353/DEMOyolov5/images', 'labels': 's3://sagemaker-us-east-2-847380964353/DEMOyolov5/labels'}\n"
     ]
    }
   ],
   "source": [
    "WORK_DIRECTORY = '/home/ec2-user/SageMaker/yolov5_sagemaker/data/'\n",
    "\n",
    "data_location = sess.upload_data(WORK_DIRECTORY, key_prefix=prefix)\n",
    "\n",
    "inputs = {'cfg': data_location+'/cfg', 'weights': data_location+'/weights', 'images': data_location+'/images', 'labels': data_location+'/labels'}\n",
    "\n",
    "print(inputs)"
   ]
  },
  {
   "cell_type": "markdown",
   "metadata": {},
   "source": [
    "## Training on SageMaker\n",
    "Training a model on SageMaker with the Python SDK is done in a way that is similar to the way we trained it locally. This is done by changing our train_instance_type from `local` to one of our [supported EC2 instance types](https://aws.amazon.com/sagemaker/pricing/instance-types/).\n",
    "\n",
    "In addition, we must now specify the ECR image URL, which we just pushed above.\n",
    "\n",
    "Finally, our local training dataset has to be in Amazon S3 and the S3 URL to our dataset is passed into the `fit()` call.\n",
    "\n",
    "Let's first fetch our ECR image url that corresponds to the image we just built and pushed."
   ]
  },
  {
   "cell_type": "code",
   "execution_count": 45,
   "metadata": {},
   "outputs": [
    {
     "name": "stdout",
     "output_type": "stream",
     "text": [
      "847380964353.dkr.ecr.us-east-2.amazonaws.com/yolov5:latest\n"
     ]
    }
   ],
   "source": [
    "import boto3\n",
    "\n",
    "client = boto3.client('sts')\n",
    "account = client.get_caller_identity()['Account']\n",
    "\n",
    "my_session = boto3.session.Session()\n",
    "region = my_session.region_name\n",
    "\n",
    "algorithm_name = 'yolov5'\n",
    "\n",
    "if region.startswith('cn'):\n",
    "    ecr_image = '{}.dkr.ecr.{}.amazonaws.com.cn/{}:latest'.format(account, region, algorithm_name)\n",
    "else:\n",
    "    ecr_image = '{}.dkr.ecr.{}.amazonaws.com/{}:latest'.format(account, region, algorithm_name)\n",
    "\n",
    "print(ecr_image)"
   ]
  },
  {
   "cell_type": "code",
   "execution_count": 46,
   "metadata": {},
   "outputs": [
    {
     "name": "stdout",
     "output_type": "stream",
     "text": [
      "2021-12-20 16:23:47 Starting - Starting the training job...\n",
      "2021-12-20 16:24:10 Starting - Launching requested ML instancesProfilerReport-1640017427: InProgress\n",
      "......\n",
      "2021-12-20 16:25:11 Starting - Preparing the instances for training......\n",
      "2021-12-20 16:26:15 Downloading - Downloading input data...\n",
      "2021-12-20 16:26:31 Training - Downloading the training image..............................\n",
      "2021-12-20 16:31:48 Training - Training image download completed. Training in progress..\u001b[34m/opt/ml/input/data/cfg/haitian.yaml\u001b[0m\n",
      "\u001b[34m/opt/ml/input/data/cfg/yolov5x6.yaml\u001b[0m\n",
      "\u001b[34m/opt/ml/input/data/weights/yolov5x6.pt\u001b[0m\n",
      "\u001b[34mTensorFlow installation not found - running with reduced feature set.\u001b[0m\n",
      "\u001b[34mNOTE: Using experimental fast data loading logic. To disable, pass\n",
      "    \"--load_fast=false\" and report issues on GitHub. More details:\n",
      "    https://github.com/tensorflow/tensorboard/issues/4784\u001b[0m\n",
      "\u001b[34mTensorBoard 2.7.0 at http://ip-10-0-119-218.us-east-2.compute.internal:6006/ (Press CTRL+C to quit)\u001b[0m\n",
      "\u001b[34m#033[34m#033[1mtrain: #033[0mweights=/opt/ml/input/data/weights/yolov5x6.pt, cfg=/opt/ml/input/data/cfg/yolov5x6.yaml, data=/opt/ml/input/data/cfg/haitian.yaml, hyp=../../yolov5/data/hyps/hyp.scratch.yaml, epochs=1, batch_size=2, imgsz=1600, rect=False, resume=False, nosave=False, noval=False, noautoanchor=False, evolve=None, bucket=, cache=None, image_weights=False, device=, multi_scale=False, single_cls=False, adam=False, sync_bn=False, workers=8, project=../../yolov5/runs/train, name=tutorial, exist_ok=False, quad=False, linear_lr=False, label_smoothing=0.0, patience=100, freeze=0, save_period=-1, local_rank=-1, entity=None, upload_dataset=False, bbox_interval=-1, artifact_alias=latest\u001b[0m\n",
      "\u001b[34mYOLOv5 🚀 2021-12-17 torch 1.10.0+cu102 CUDA:0 (Tesla V100-SXM2-16GB, 16160MiB)\u001b[0m\n",
      "\u001b[34m#033[34m#033[1mhyperparameters: #033[0mlr0=0.01, lrf=0.1, momentum=0.937, weight_decay=0.0005, warmup_epochs=3.0, warmup_momentum=0.8, warmup_bias_lr=0.1, box=0.05, cls=0.5, cls_pw=1.0, obj=1.0, obj_pw=1.0, iou_t=0.2, anchor_t=4.0, fl_gamma=0.0, hsv_h=0.015, hsv_s=0.7, hsv_v=0.4, degrees=0.0, translate=0.1, scale=0.5, shear=0.0, perspective=0.0, flipud=0.0, fliplr=0.5, mosaic=1.0, mixup=0.0, copy_paste=0.0\u001b[0m\n",
      "\u001b[34m#033[34m#033[1mTensorBoard: #033[0mStart with 'tensorboard --logdir ../../yolov5/runs/train', view at http://localhost:6006/\u001b[0m\n",
      "\u001b[34m                 from  n    params  module                                  arguments                     \n",
      "  0                -1  1      8800  models.common.Focus                     [3, 80, 3]                    \n",
      "  1                -1  1    115520  models.common.Conv                      [80, 160, 3, 2]               \n",
      "  2                -1  4    309120  models.common.C3                        [160, 160, 4]                 \n",
      "  3                -1  1    461440  models.common.Conv                      [160, 320, 3, 2]              \n",
      "  4                -1 12   3285760  models.common.C3                        [320, 320, 12]                \n",
      "  5                -1  1   1844480  models.common.Conv                      [320, 640, 3, 2]              \n",
      "  6                -1 12  13125120  models.common.C3                        [640, 640, 12]                \n",
      "  7                -1  1   5531520  models.common.Conv                      [640, 960, 3, 2]              \n",
      "  8                -1  4  11070720  models.common.C3                        [960, 960, 4]                 \n",
      "  9                -1  1  11061760  models.common.Conv                      [960, 1280, 3, 2]             \n",
      " 10                -1  1   4099840  models.common.SPP                       [1280, 1280, [3, 5, 7]]       \n",
      " 11                -1  4  19676160  models.common.C3                        [1280, 1280, 4, False]        \n",
      " 12                -1  1   1230720  models.common.Conv                      [1280, 960, 1, 1]             \n",
      " 13                -1  1         0  torch.nn.modules.upsampling.Upsample    [None, 2, 'nearest']          \n",
      " 14           [-1, 8]  1         0  models.common.Concat                    [1]                           \u001b[0m\n",
      "\u001b[34m 15                -1  4  11992320  models.common.C3                        [1920, 960, 4, False]         \n",
      " 16                -1  1    615680  models.common.Conv                      [960, 640, 1, 1]              \n",
      " 17                -1  1         0  torch.nn.modules.upsampling.Upsample    [None, 2, 'nearest']          \n",
      " 18           [-1, 6]  1         0  models.common.Concat                    [1]                           \n",
      " 19                -1  4   5332480  models.common.C3                        [1280, 640, 4, False]         \n",
      " 20                -1  1    205440  models.common.Conv                      [640, 320, 1, 1]              \n",
      " 21                -1  1         0  torch.nn.modules.upsampling.Upsample    [None, 2, 'nearest']          \n",
      " 22           [-1, 4]  1         0  models.common.Concat                    [1]                           \n",
      " 23                -1  4   1335040  models.common.C3                        [640, 320, 4, False]          \n",
      " 24                -1  1    922240  models.common.Conv                      [320, 320, 3, 2]              \n",
      " 25          [-1, 20]  1         0  models.common.Concat                    [1]                           \n",
      " 26                -1  4   4922880  models.common.C3                        [640, 640, 4, False]          \n",
      " 27                -1  1   3687680  models.common.Conv                      [640, 640, 3, 2]              \n",
      " 28          [-1, 16]  1         0  models.common.Concat                    [1]                           \n",
      " 29                -1  4  11377920  models.common.C3                        [1280, 960, 4, False]         \n",
      " 30                -1  1   8296320  models.common.Conv                      [960, 960, 3, 2]              \n",
      " 31          [-1, 12]  1         0  models.common.Concat                    [1]                           \n",
      " 32                -1  4  20495360  models.common.C3                        [1920, 1280, 4, False]        \n",
      " 33  [23, 26, 29, 32]  1    211464  models.yolo.Detect                      [17, [[19, 27, 44, 40, 38, 94], [96, 68, 86, 152, 180, 137], [140, 301, 303, 264, 238, 542], [436, 615, 739, 380, 925, 792]], [320, 640, 960, 1280]]\u001b[0m\n",
      "\u001b[34mModel Summary: 773 layers, 141215784 parameters, 141215784 gradients, 221.8 GFLOPs\u001b[0m\n",
      "\u001b[34mTransferred 884/1011 items from /opt/ml/input/data/weights/yolov5x6.pt\u001b[0m\n",
      "\u001b[34mScaled weight_decay = 0.0005\u001b[0m\n",
      "\u001b[34m#033[34m#033[1moptimizer:#033[0m SGD with parameter groups 167 weight, 171 weight (no decay), 171 bias\u001b[0m\n",
      "\u001b[34mDownloading https://ultralytics.com/assets/Arial.ttf to /root/.config/Ultralytics/Arial.ttf...\u001b[0m\n",
      "\u001b[34m#033[34m#033[1mgithub: #033[0mskipping check (not a git repository), for updates see https://github.com/ultralytics/yolov5\u001b[0m\n",
      "\u001b[34m#033[34m#033[1mWeights & Biases: #033[0mrun 'pip install wandb' to automatically track and visualize YOLOv5 🚀 runs (RECOMMENDED)\u001b[0m\n",
      "\u001b[34m#015#033[34m#033[1mtrain: #033[0mScanning '/opt/ml/input/data/labels/train' images and labels...:   0%|          | 0/315 [00:00<?, ?it/s]#015#033[34m#033[1mtrain: #033[0mScanning '/opt/ml/input/data/labels/train' images and labels...210 found, 0 missing, 0 empty, 0 corrupted:  67%|██████▋   | 210/315 [00:00<00:00, 2097.02it/s]#015#033[34m#033[1mtrain: #033[0mScanning '/opt/ml/input/data/labels/train' images and labels...315 found, 0 missing, 0 empty, 0 corrupted: 100%|██████████| 315/315 [00:00<00:00, 2298.04it/s]\u001b[0m\n",
      "\u001b[34m#033[34m#033[1mtrain: #033[0mWARNING: /opt/ml/input/data/images/train/0100A1K528320X14ILON.jpg: 6 duplicate labels removed\u001b[0m\n",
      "\u001b[34m#033[34m#033[1mtrain: #033[0mWARNING: /opt/ml/input/data/images/train/0100A1K5A83Y18TK4GY1.jpg: 22 duplicate labels removed\u001b[0m\n",
      "\u001b[34m#033[34m#033[1mtrain: #033[0mWARNING: /opt/ml/input/data/images/train/011a16b8718c41d7a2ad571e6c6e1bc8.jpg: 17 duplicate labels removed\u001b[0m\n",
      "\u001b[34m#033[34m#033[1mtrain: #033[0mWARNING: /opt/ml/input/data/images/train/04c771e71e28453b92a289f6a9195cfc.jpg: 11 duplicate labels removed\u001b[0m\n",
      "\u001b[34m#033[34m#033[1mtrain: #033[0mWARNING: /opt/ml/input/data/images/train/053d3a89df194cc0a8b6251c4707e4d6.jpg: 15 duplicate labels removed\u001b[0m\n",
      "\u001b[34m#033[34m#033[1mtrain: #033[0mWARNING: /opt/ml/input/data/images/train/0f76db189aa142dbb2aec49e679190b1.jpg: 144 duplicate labels removed\u001b[0m\n",
      "\u001b[34m#033[34m#033[1mtrain: #033[0mWARNING: /opt/ml/input/data/images/train/1ee39467a85c49219cb27bbc70d9d07c.jpg: 37 duplicate labels removed\u001b[0m\n",
      "\u001b[34m#033[34m#033[1mtrain: #033[0mWARNING: /opt/ml/input/data/images/train/1f1048c3559e4573b0fdd4bcf00cacea.jpg: 19 duplicate labels removed\u001b[0m\n",
      "\u001b[34m#033[34m#033[1mtrain: #033[0mWARNING: /opt/ml/input/data/images/train/22529901491b4afca0afb68d2885ac9a.jpg: 6 duplicate labels removed\u001b[0m\n",
      "\u001b[34m#033[34m#033[1mtrain: #033[0mWARNING: /opt/ml/input/data/images/train/2c1ef5e90ca84d7db545d1cfc2055e51.jpg: 11 duplicate labels removed\u001b[0m\n",
      "\u001b[34m#033[34m#033[1mtrain: #033[0mWARNING: /opt/ml/input/data/images/train/32ee8e7bb8fe4f9486ddb6cf109cdc53.jpg: 5 duplicate labels removed\u001b[0m\n",
      "\u001b[34m#033[34m#033[1mtrain: #033[0mWARNING: /opt/ml/input/data/images/train/3a2504a0c06f4a51b57dca14ff21ff1d.jpg: 36 duplicate labels removed\u001b[0m\n",
      "\u001b[34m#033[34m#033[1mtrain: #033[0mWARNING: /opt/ml/input/data/images/train/3bef41adb148445aabe387b25d51c4b5.jpg: 11 duplicate labels removed\u001b[0m\n",
      "\u001b[34m#033[34m#033[1mtrain: #033[0mWARNING: /opt/ml/input/data/images/train/3f819bfd3c244bb88c79f777b0983f55.jpg: 13 duplicate labels removed\u001b[0m\n",
      "\u001b[34m#033[34m#033[1mtrain: #033[0mWARNING: /opt/ml/input/data/images/train/4683b89d021c444dbe1e192dee69a922.jpg: 16 duplicate labels removed\u001b[0m\n",
      "\u001b[34m#033[34m#033[1mtrain: #033[0mWARNING: /opt/ml/input/data/images/train/4bdff71d43834291886de45c389a5be5.jpg: 6 duplicate labels removed\u001b[0m\n",
      "\u001b[34m#033[34m#033[1mtrain: #033[0mWARNING: /opt/ml/input/data/images/train/56ecaa31e49349919d2e265025060c24.jpg: 16 duplicate labels removed\u001b[0m\n",
      "\u001b[34m#033[34m#033[1mtrain: #033[0mWARNING: /opt/ml/input/data/images/train/63aed10447ed4855a6a59d64800c4d5c.jpg: 12 duplicate labels removed\u001b[0m\n",
      "\u001b[34m#033[34m#033[1mtrain: #033[0mWARNING: /opt/ml/input/data/images/train/6a2001badff248169147c7d53e26acfa.jpg: 11 duplicate labels removed\u001b[0m\n",
      "\u001b[34m#033[34m#033[1mtrain: #033[0mWARNING: /opt/ml/input/data/images/train/6adfad19bff14fe8aea045e1f5b1f210.jpg: 11 duplicate labels removed\u001b[0m\n",
      "\u001b[34m#033[34m#033[1mtrain: #033[0mWARNING: /opt/ml/input/data/images/train/7e3ea03106e941f19efa9e60d71720e2.jpg: 9 duplicate labels removed\u001b[0m\n",
      "\u001b[34m#033[34m#033[1mtrain: #033[0mWARNING: /opt/ml/input/data/images/train/7f6d9b5a29f14c4eb39ac2f1d588dd08.jpg: 15 duplicate labels removed\u001b[0m\n",
      "\u001b[34m#033[34m#033[1mtrain: #033[0mWARNING: /opt/ml/input/data/images/train/80ec96389afe4c8d9edcc4cf43f4ad2a.jpg: 24 duplicate labels removed\u001b[0m\n",
      "\u001b[34m#033[34m#033[1mtrain: #033[0mWARNING: /opt/ml/input/data/images/train/869baae2f434402aa48acef7c22cb13c.jpg: 27 duplicate labels removed\u001b[0m\n",
      "\u001b[34m#033[34m#033[1mtrain: #033[0mWARNING: /opt/ml/input/data/images/train/8fd888f0898446ddaa7daca5adcf6779.jpg: 11 duplicate labels removed\u001b[0m\n",
      "\u001b[34m#033[34m#033[1mtrain: #033[0mWARNING: /opt/ml/input/data/images/train/9bd3f607e55e4700bb2578426d0e9ba1.jpg: 13 duplicate labels removed\u001b[0m\n",
      "\u001b[34m#033[34m#033[1mtrain: #033[0mNew cache created: /opt/ml/input/data/labels/train.cache\u001b[0m\n",
      "\u001b[34m#015#033[34m#033[1mval: #033[0mScanning '/opt/ml/input/data/labels/val' images and labels...:   0%|          | 0/72 [00:00<?, ?it/s]#015#033[34m#033[1mval: #033[0mScanning '/opt/ml/input/data/labels/val' images and labels...72 found, 0 missing, 0 empty, 0 corrupted: 100%|██████████| 72/72 [00:00<00:00, 1498.56it/s]\u001b[0m\n",
      "\u001b[34m#033[34m#033[1mval: #033[0mWARNING: /opt/ml/input/data/images/val/0100A1K5M83K1DULKG07.jpg: 4 duplicate labels removed\u001b[0m\n",
      "\u001b[34m#033[34m#033[1mval: #033[0mWARNING: /opt/ml/input/data/images/val/0ef25675102e4d55ba1e8feaadffcd8a.jpg: 8 duplicate labels removed\u001b[0m\n",
      "\u001b[34m#033[34m#033[1mval: #033[0mWARNING: /opt/ml/input/data/images/val/1ad81ef9f15a4a39b68a36349f58ae79.jpg: 4 duplicate labels removed\u001b[0m\n",
      "\u001b[34m#033[34m#033[1mval: #033[0mWARNING: /opt/ml/input/data/images/val/489efa7c47914c068a9603528ab6d38f.jpg: 11 duplicate labels removed\u001b[0m\n",
      "\u001b[34m#033[34m#033[1mval: #033[0mWARNING: /opt/ml/input/data/images/val/4cca927021d44348a68aacbf70ea6b7f.jpg: 3 duplicate labels removed\u001b[0m\n",
      "\u001b[34m#033[34m#033[1mval: #033[0mWARNING: /opt/ml/input/data/images/val/4d500552bfae453cb134df8354cc156b.jpg: 10 duplicate labels removed\u001b[0m\n",
      "\u001b[34m#033[34m#033[1mval: #033[0mNew cache created: /opt/ml/input/data/labels/val.cache\u001b[0m\n",
      "\u001b[34mPlotting labels to ../../yolov5/runs/train/tutorial/labels.jpg... \u001b[0m\n",
      "\u001b[34m#033[34m#033[1mAutoAnchor: #033[0m5.46 anchors/target, 1.000 Best Possible Recall (BPR). Current anchors are a good fit to dataset ✅\u001b[0m\n",
      "\u001b[34mImage sizes 1600 train, 1600 val\u001b[0m\n",
      "\u001b[34mUsing 2 dataloader workers\u001b[0m\n",
      "\u001b[34mLogging results to #033[1m../../yolov5/runs/train/tutorial#033[0m\u001b[0m\n",
      "\u001b[34mStarting training for 1 epochs...\n",
      "     Epoch   gpu_mem       box       obj       cls    labels  img_size\u001b[0m\n",
      "\u001b[34m#015  0%|          | 0/158 [00:00<?, ?it/s]#015       0/0     11.4G    0.1141    0.1694   0.07512        35      1600:   0%|          | 0/158 [00:00<?, ?it/s]#015       0/0     11.4G    0.1141    0.1694   0.07512        35      1600:   1%|          | 1/158 [00:05<14:46,  5.65s/it]#015       0/0     12.3G     0.118    0.1832   0.07603        65      1600:   1%|          | 1/158 [00:06<14:46,  5.65s/it]#015       0/0     12.3G     0.118    0.1832   0.07603        65      1600:   1%|▏         | 2/158 [00:06<10:44,  4.13s/it]#015       0/0     12.7G    0.1092    0.1853   0.06916        44      1600:   1%|▏         | 2/158 [00:06<10:44,  4.13s/it]#015       0/0     12.7G    0.1092    0.1853   0.06916        44      1600:   2%|▏         | 3/158 [00:06<07:51,  3.04s/it]#015       0/0     12.7G    0.1037    0.1761   0.06578        20      1600:   2%|▏         | 3/158 [00:07<07:51,  3.04s/it]#015       0/0     12.7G    0.1037    0.1761   0.06578        20      1600:   3%|▎         | 4/158 [00:07<05:54,  2.30s/it]#015       0/0     12.7G    0.1057    0.1732   0.06817        24      1600:   3%|▎         | 4/158 [00:07<05:54,  2.30s/it]#015       0/0     12.7G    0.1057    0.1732   0.06817        24      1600:   3%|▎         | 5/158 [00:07<04:26,  1.74s/it]#015       0/0     12.7G    0.1082    0.1717   0.06928        31      1600:   3%|▎         | 5/158 [00:08<04:26,  1.74s/it]#015       0/0     12.7G    0.1082    0.1717   0.06928        31      1600:   4%|▍         | 6/158 [00:08<03:25,  1.35s/it]#015       0/0     12.7G    0.1054     0.169   0.06747        30      1600:   4%|▍         | 6/158 [00:08<03:25,  1.35s/it]#015       0/0     12.7G    0.1054     0.169   0.06747        30      1600:   4%|▍         | 7/158 [00:08<02:42,  1.08s/it]#015       0/0     12.7G    0.1069    0.1637   0.06855         8      1600:   4%|▍         | 7/158 [00:09<02:42,  1.08s/it]#015       0/0     12.7G    0.1069    0.1637   0.06855         8      1600:   5%|▌         | 8/158 [00:09<02:13,  1.12it/s]#015       0/0     12.7G    0.1073    0.1592   0.06936         8      1600:   5%|▌         | 8/158 [00:09<02:13,  1.12it/s]#015       0/0     12.7G    0.1073    0.1592   0.06936         8      1600:   6%|▌         | 9/158 [00:09<01:52,  1.32it/s]#015       0/0     12.7G    0.1054    0.1547   0.06775         2      1600:   6%|▌         | 9/158 [00:10<01:52,  1.32it/s]#015       0/0     12.7G    0.1054    0.1547   0.06775         2      1600:   6%|▋         | 10/158 [00:10<01:44,  1.42it/s]#015       0/0     12.7G    0.1067    0.1517   0.06834         7      1600:   6%|▋         | 10/158 [00:10<01:44,  1.42it/s]#015       0/0     12.7G    0.1067    0.1517   0.06834         7      1600:   7%|▋         | 11/158 [00:10<01:38,  1.49it/s]#015       0/0     12.7G    0.1071    0.1499   0.06884        15      1600:   7%|▋         | 11/158 [00:11<01:38,  1.49it/s]#015       0/0     12.7G    0.1071    0.1499   0.06884        15      1600:   8%|▊         | 12/158 [00:11<01:36,  1.52it/s]#015       0/0     12.7G    0.1047    0.1468   0.06794         2      1600:   8%|▊         | 12/158 [00:12<01:36,  1.52it/s]#015       0/0     12.7G    0.1047    0.1468   0.06794         2      1600:   8%|▊         | 13/158 [00:12<01:36,  1.50it/s]#015       0/0     12.7G    0.1037     0.145   0.06707        12      1600:   8%|▊         | 13/158 [00:12<01:36,  1.50it/s]#015       0/0     12.7G    0.1037     0.145   0.06707        12      1600:   9%|▉         | 14/158 [00:12<01:38,  1.46it/s]#015       0/0     12.7G    0.1046    0.1436   0.06759        14      1600:   9%|▉         | 14/158 [00:13<01:38,  1.46it/s]#015       0/0     12.7G    0.1046    0.1436   0.06759        14      1600:   9%|▉         | 15/158 [00:13<01:27,  1.64it/s]#015       0/0     12.7G    0.1053    0.1488   0.06797        81      1600:   9%|▉         | 15/158 [00:13<01:27,  1.64it/s]#015       0/0     12.7G    0.1053    0.1488   0.06797        81      1600:  10%|█         | 16/158 [00:13<01:28,  1.61it/s]#015       0/0     12.7G    0.1055    0.1476   0.06833        14      1600:  10%|█         | 16/158 [00:14<01:28,  1.61it/s]#015       0/0     12.7G    0.1055    0.1476   0.06833        14      1600:  11%|█         | 17/158 [00:14<01:24,  1.66it/s]#015       0/0     12.7G     0.106    0.1467   0.06888        18      1600:  11%|█         | 17/158 [00:15<01:24,  1.66it/s]#015       0/0     12.7G     0.106    0.1467   0.06888        18      1600:  11%|█▏        | 18/158 [00:15<01:28,  1.58it/s]#015       0/0     12.7G    0.1061    0.1452   0.06921        14      1600:  11%|█▏        | 18/158 [00:15<01:28,  1.58it/s]#015       0/0     12.7G    0.1061    0.1452   0.06921        14      1600:  12%|█▏        | 19/158 [00:15<01:24,  1.65it/s]#015       0/0     12.7G    0.1052    0.1455   0.06857        36      1600:  12%|█▏        | 19/158 [00:16<01:24,  1.65it/s]#015       0/0     12.7G    0.1052    0.1455   0.06857        36      1600:  13%|█▎        | 20/158 [00:16<01:16,  1.80it/s]#015       0/0     12.7G    0.1056    0.1479   0.06891        60      1600:  13%|█▎        | 20/158 [00:16<01:16,  1.80it/s]#015       0/0     12.7G    0.1056    0.1479   0.06891        60      1600:  13%|█▎        | 21/158 [00:16<01:17,  1.76it/s]#015       0/0     12.7G    0.1046    0.1461    0.0683         6      1600:  13%|█▎        | 21/158 [00:17<01:17,  1.76it/s]#015       0/0     12.7G    0.1046    0.1461    0.0683         6      1600:  14%|█▍        | 22/158 [00:17<01:23,  1.64it/s]#015       0/0     12.7G    0.1048    0.1448   0.06842        11      1600:  14%|█▍        | 22/158 [00:17<01:23,  1.64it/s]#015       0/0     12.7G    0.1048    0.1448   0.06842        11      1600:  15%|█▍        | 23/158 [00:17<01:17,  1.75it/s]#015       0/0     12.7G    0.1053    0.1457   0.06868        39      1600:  15%|█▍        | 23/158 [00:18<01:17,  1.75it/s]#015       0/0     12.7G    0.1053    0.1457   0.06868        39      1600:  15%|█▌        | 24/158 [00:18<01:27,  1.53it/s]#015       0/0     12.7G    0.1047    0.1438   0.06817         3      1600:  15%|█▌        | 24/158 [00:19<01:27,  1.53it/s]#015       0/0     12.7G    0.1047    0.1438   0.06817         3      1600:  16%|█▌        | 25/158 [00:19<01:29,  1.49it/s]#015       0/0     12.7G    0.1051    0.1427   0.06844        12      1600:  16%|█▌        | 25/158 [00:20<01:29,  1.49it/s]#015       0/0     12.7G    0.1051    0.1427   0.06844        12      1600:  16%|█▋        | 26/158 [00:20<01:28,  1.49it/s]#015       0/0     12.7G    0.1042    0.1412   0.06799         7      1600:  16%|█▋        | 26/158 [00:20<01:28,  1.49it/s]#015       0/0     12.7G    0.1042    0.1412   0.06799         7      1600:  17%|█▋        | 27/158 [00:20<01:36,  1.35it/s]#015       0/0     12.7G    0.1044    0.1421   0.06822        51      1600:  17%|█▋        | 27/158 [00:21<01:36,  1.35it/s]#015       0/0     12.7G    0.1044    0.1421   0.06822        51      1600:  18%|█▊        | 28/158 [00:21<01:21,  1.60it/s]#015       0/0     12.7G    0.1035    0.1407   0.06779         4      1600:  18%|█▊        | 28/158 [00:22<01:21,  1.60it/s]#015       0/0     12.7G    0.1035    0.1407   0.06779         4      1600:  18%|█▊        | 29/158 [00:22<01:44,  1.23it/s]#015       0/0     12.7G    0.1035      0.14   0.06796        16      1600:  18%|█▊        | 29/158 [00:22<01:44,  1.23it/s]#015       0/0     12.7G    0.1035      0.14   0.06796        16      1600:  19%|█▉        | 30/158 [00:22<01:26,  1.48it/s]#015       0/0     12.7G    0.1038    0.1394   0.06811        20      1600:  19%|█▉        | 30/158 [00:23<01:26,  1.48it/s]#015       0/0     12.7G    0.1038    0.1394   0.06811        20      1600:  20%|█▉        | 31/158 [00:23<01:38,  1.29it/s]#015       0/0     12.7G     0.104    0.1389   0.06838        22      1600:  20%|█▉        | 31/158 [00:24<01:38,  1.29it/s]#015       0/0     12.7G     0.104    0.1389   0.06838        22      1600:  20%|██        | 32/158 [00:24<01:22,  1.53it/s]#015       0/0     12.7G    0.1042    0.1392   0.06859        38      1600:  20%|██        | 32/158 [00:25<01:22,  1.53it/s]#015       0/0     12.7G    0.1042    0.1392   0.06859        38      1600:  21%|██        | 33/158 [00:25<01:29,  1.40it/s]#015       0/0     12.7G    0.1043    0.1386   0.06873        17      1600:  21%|██        | 33/158 [00:25<01:29,  1.40it/s]#015       0/0     12.7G    0.1043    0.1386   0.06873        17      1600:  22%|██▏       | 34/158 [00:25<01:15,  1.64it/s]#015       0/0     12.7G    0.1042    0.1377   0.06888        11      1600:  22%|██▏       | 34/158 [00:26<01:15,  1.64it/s]#015       0/0     12.7G    0.1042    0.1377   0.06888        11      1600:  22%|██▏       | 35/158 [00:26<01:35,  1.29it/s]#015       0/0     12.7G    0.1044     0.138   0.06905        35      1600:  22%|██▏       | 35/158 [00:27<01:35,  1.29it/s]#015       0/0     12.7G    0.1044     0.138   0.06905        35      1600:  23%|██▎       | 36/158 [00:27<01:19,  1.54it/s]#015       0/0     12.7G    0.1044    0.1374   0.06918        18      1600:  23%|██▎       | 36/158 [00:28<01:19,  1.54it/s]#015       0/0     12.7G    0.1044    0.1374   0.06918        18      1600:  23%|██▎       | 37/158 [00:28<01:35,  1.27it/s]#015       0/0     12.7G    0.1028     0.136   0.06841         2      1600:  23%|██▎       | 37/158 [00:28<01:35,  1.27it/s]#015       0/0     12.7G    0.1028     0.136   0.06841         2      1600:  24%|██▍       | 38/158 [00:28<01:18,  1.52it/s]#015       0/0     12.7G    0.1021    0.1348   0.06812         2      1600:  24%|██▍       | 38/158 [00:29<01:18,  1.52it/s]#015       0/0     12.7G    0.1021    0.1348   0.06812         2      1600:  25%|██▍       | 39/158 [00:29<01:39,  1.20it/s]#015       0/0     12.7G    0.1021    0.1336    0.0683         3      1600:  25%|██▍       | 39/158 [00:30<01:39,  1.20it/s]#015       0/0     12.7G    0.1021    0.1336    0.0683         3      1600:  25%|██▌       | 40/158 [00:30<01:21,  1.45it/s]#015       0/0     12.7G    0.1024    0.1344   0.06856        54      1600:  25%|██▌       | 40/158 [00:30<01:21,  1.45it/s]#015       0/0     12.7G    0.1024    0.1344   0.06856        54      1600:  26%|██▌       | 41/158 [00:30<01:17,  1.51it/s]#015       0/0     12.7G    0.1025    0.1342   0.06867        37      1600:  26%|██▌       | 41/158 [00:31<01:17,  1.51it/s]#015       0/0     12.7G    0.1025    0.1342   0.06867        37      1600:  27%|██▋       | 42/158 [00:31<01:06,  1.75it/s]#015       0/0     12.7G    0.1019     0.133   0.06845         3      1600:  27%|██▋       | 42/158 [00:32<01:06,  1.75it/s]#015       0/0     12.7G    0.1019     0.133   0.06845         3      1600:  27%|██▋       | 43/158 [00:32<01:24,  1.36it/s]#015       0/0     12.7G    0.1018     0.132   0.06858         5      1600:  27%|██▋       | 43/158 [00:32<01:24,  1.36it/s]#015       0/0     12.7G    0.1018     0.132   0.06858         5      1600:  28%|██▊       | 44/158 [00:32<01:11,  1.60it/s]#015       0/0     12.7G     0.102    0.1311   0.06874         6      1600:  28%|██▊       | 44/158 [00:33<01:11,  1.60it/s]#015       0/0     12.7G     0.102    0.1311   0.06874         6      1600:  28%|██▊       | 45/158 [00:33<01:25,  1.32it/s]#015       0/0     12.7G    0.1023    0.1306   0.06889        20      1600:  28%|██▊       | 45/158 [00:34<01:25,  1.32it/s]#015       0/0     12.7G    0.1023    0.1306   0.06889        20      1600:  29%|██▉       | 46/158 [00:34<01:11,  1.56it/s]#015       0/0     12.7G    0.1024    0.1304   0.06901        27      1600:  29%|██▉       | 46/158 [00:34<01:11,  1.56it/s]#015       0/0     12.7G    0.1024    0.1304   0.06901        27      1600:  30%|██▉       | 47/158 [00:34<01:22,  1.35it/s]#015       0/0     12.7G    0.1023    0.1294   0.06912         4      1600:  30%|██▉       | 47/158 [00:35<01:22,  1.35it/s]#015       0/0     12.7G    0.1023    0.1294   0.06912         4      1600:  30%|███       | 48/158 [00:35<01:09,  1.59it/s]#015       0/0     12.7G    0.1026    0.1302   0.06921        52      1600:  30%|███       | 48/158 [00:36<01:09,  1.59it/s]#015       0/0     12.7G    0.1026    0.1302   0.06921        52      1600:  31%|███       | 49/158 [00:36<01:14,  1.47it/s]#015       0/0     12.7G    0.1025    0.1294   0.06939        10      1600:  31%|███       | 49/158 [00:36<01:14,  1.47it/s]#015       0/0     12.7G    0.1025    0.1294   0.06939        10      1600:  32%|███▏      | 50/158 [00:36<01:03,  1.71it/s]#015       0/0     12.7G    0.1024    0.1287   0.06953         8      1600:  32%|███▏      | 50/158 [00:37<01:03,  1.71it/s]#015       0/0     12.7G    0.1024    0.1287   0.06953         8      1600:  32%|███▏      | 51/158 [00:37<01:12,  1.48it/s]#015       0/0     12.7G    0.1024    0.1279    0.0696         8      1600:  32%|███▏      | 51/158 [00:37<01:12,  1.48it/s]#015       0/0     12.7G    0.1024    0.1279    0.0696         8      1600:  33%|███▎      | 52/158 [00:37<01:04,  1.65it/s]#015       0/0     12.7G    0.1023    0.1269   0.06971         3      1600:  33%|███▎      | 52/158 [00:38<01:04,  1.65it/s]#015       0/0     12.7G    0.1023    0.1269   0.06971         3      1600:  34%|███▎      | 53/158 [00:38<01:11,  1.47it/s]#015       0/0     12.7G    0.1024     0.126   0.06979         4      1600:  34%|███▎      | 53/158 [00:39<01:11,  1.47it/s]#015       0/0     12.7G    0.1024     0.126   0.06979         4      1600:  34%|███▍      | 54/158 [00:39<01:00,  1.71it/s]#015       0/0     12.7G    0.1025    0.1266    0.0699        47      1600:  34%|███▍      | 54/158 [00:40<01:00,  1.71it/s]#015       0/0     12.7G    0.1025    0.1266    0.0699        47      1600:  35%|███▍      | 55/158 [00:40<01:17,  1.33it/s]#015       0/0     12.7G    0.1023    0.1258   0.06998         6      1600:  35%|███▍      | 55/158 [00:40<01:17,  1.33it/s]#015       0/0     12.7G    0.1023    0.1258   0.06998         6      1600:  35%|███▌      | 56/158 [00:40<01:04,  1.57it/s]#015       0/0     12.7G    0.1019    0.1263   0.06973        55      1600:  35%|███▌      | 56/158 [00:41<01:04,  1.57it/s]#015       0/0     12.7G    0.1019    0.1263   0.06973        55      1600:  36%|███▌      | 57/158 [00:41<01:03,  1.59it/s]#015       0/0     12.7G    0.1018    0.1261   0.06981        23      1600:  36%|███▌      | 57/158 [00:41<01:03,  1.59it/s]#015       0/0     12.7G    0.1018    0.1261   0.06981        23      1600:  37%|███▋      | 58/158 [00:41<00:57,  1.74it/s]#015       0/0     12.7G    0.1019     0.126   0.06989        26      1600:  37%|███▋      | 58/158 [00:42<00:57,  1.74it/s]#015       0/0     12.7G    0.1019     0.126   0.06989        26      1600:  37%|███▋      | 59/158 [00:42<01:02,  1.59it/s]#015       0/0     12.7G    0.1018    0.1253   0.06993         9      1600:  37%|███▋      | 59/158 [00:42<01:02,  1.59it/s]#015       0/0     12.7G    0.1018    0.1253   0.06993         9      1600:  38%|███▊      | 60/158 [00:42<00:59,  1.65it/s]#015       0/0     12.7G    0.1017    0.1251   0.06996        31      1600:  38%|███▊      | 60/158 [00:43<00:59,  1.65it/s]#015       0/0     12.7G    0.1017    0.1251   0.06996        31      1600:  39%|███▊      | 61/158 [00:43<01:01,  1.57it/s]#015       0/0     12.7G    0.1013    0.1256   0.06975        44      1600:  39%|███▊      | 61/158 [00:44<01:01,  1.57it/s]#015       0/0     12.7G    0.1013    0.1256   0.06975        44      1600:  39%|███▉      | 62/158 [00:44<00:56,  1.69it/s]#015       0/0     12.7G    0.1011    0.1247   0.06988         2      1600:  39%|███▉      | 62/158 [00:44<00:56,  1.69it/s]#015       0/0     12.7G    0.1011    0.1247   0.06988         2      1600:  40%|███▉      | 63/158 [00:44<01:01,  1.54it/s]#015       0/0     12.7G    0.1011    0.1248   0.06997        26      1600:  40%|███▉      | 63/158 [00:45<01:01,  1.54it/s]#015       0/0     12.7G    0.1011    0.1248   0.06997        26      1600:  41%|████      | 64/158 [00:45<01:05,  1.44it/s]#015       0/0     12.7G    0.1011    0.1245   0.07006        21      1600:  41%|████      | 64/158 [00:46<01:05,  1.44it/s]#015       0/0     12.7G    0.1011    0.1245   0.07006        21      1600:  41%|████      | 65/158 [00:46<01:04,  1.45it/s]#015       0\u001b[0m\n",
      "\u001b[34m/0     12.7G    0.1003    0.1236   0.06957         2      1600:  41%|████      | 65/158 [00:46<01:04,  1.45it/s]#015       0/0     12.7G    0.1003    0.1236   0.06957         2      1600:  42%|████▏     | 66/158 [00:46<00:58,  1.57it/s]#015       0/0     12.7G   0.09999    0.1237   0.06939        24      1600:  42%|████▏     | 66/158 [00:47<00:58,  1.57it/s]#015       0/0     12.7G   0.09999    0.1237   0.06939        24      1600:  42%|████▏     | 67/158 [00:47<00:57,  1.59it/s]#015       0/0     12.7G   0.09988    0.1237   0.06945        33      1600:  42%|████▏     | 67/158 [00:48<00:57,  1.59it/s]#015       0/0     12.7G   0.09988    0.1237   0.06945        33      1600:  43%|████▎     | 68/158 [00:48<00:59,  1.51it/s]#015       0/0     12.7G   0.09995    0.1235   0.06951        19      1600:  43%|████▎     | 68/158 [00:48<00:59,  1.51it/s]#015       0/0     12.7G   0.09995    0.1235   0.06951        19      1600:  44%|████▎     | 69/158 [00:48<00:52,  1.70it/s]#015       0/0     12.7G   0.09979    0.1229    0.0696         6      1600:  44%|████▎     | 69/158 [00:49<00:52,  1.70it/s]#015       0/0     12.7G   0.09979    0.1229    0.0696         6      1600:  44%|████▍     | 70/158 [00:49<01:06,  1.33it/s]#015       0/0     12.7G   0.09949    0.1221   0.06964         4      1600:  44%|████▍     | 70/158 [00:50<01:06,  1.33it/s]#015       0/0     12.7G   0.09949    0.1221   0.06964         4      1600:  45%|████▍     | 71/158 [00:50<00:55,  1.57it/s]#015       0/0     12.7G   0.09938    0.1214   0.06969         5      1600:  45%|████▍     | 71/158 [00:51<00:55,  1.57it/s]#015       0/0     12.7G   0.09938    0.1214   0.06969         5      1600:  46%|████▌     | 72/158 [00:51<01:00,  1.43it/s]#015       0/0     12.7G   0.09922    0.1209   0.06977        11      1600:  46%|████▌     | 72/158 [00:51<01:00,  1.43it/s]#015       0/0     12.7G   0.09922    0.1209   0.06977        11      1600:  46%|████▌     | 73/158 [00:51<00:56,  1.50it/s]#015       0/0     12.7G   0.09932    0.1211   0.06985        39      1600:  46%|████▌     | 73/158 [00:52<00:56,  1.50it/s]#015       0/0     12.7G   0.09932    0.1211   0.06985        39      1600:  47%|████▋     | 74/158 [00:52<00:52,  1.60it/s]#015       0/0     12.7G   0.09886    0.1203   0.06966         2      1600:  47%|████▋     | 74/158 [00:53<00:52,  1.60it/s]#015       0/0     12.7G   0.09886    0.1203   0.06966         2      1600:  47%|████▋     | 75/158 [00:53<01:00,  1.38it/s]#015       0/0     12.7G   0.09876    0.1196   0.06971         3      1600:  47%|████▋     | 75/158 [00:53<01:00,  1.38it/s]#015       0/0     12.7G   0.09876    0.1196   0.06971         3      1600:  48%|████▊     | 76/158 [00:53<00:57,  1.44it/s]#015       0/0     12.7G   0.09877    0.1193   0.06973        18      1600:  48%|████▊     | 76/158 [00:54<00:57,  1.44it/s]#015       0/0     12.7G   0.09877    0.1193   0.06973        18      1600:  49%|████▊     | 77/158 [00:54<01:01,  1.32it/s]#015       0/0     12.7G   0.09842    0.1186   0.06959         3      1600:  49%|████▊     | 77/158 [00:55<01:01,  1.32it/s]#015       0/0     12.7G   0.09842    0.1186   0.06959         3      1600:  49%|████▉     | 78/158 [00:55<00:57,  1.39it/s]#015       0/0     12.7G   0.09838    0.1186   0.06966        27      1600:  49%|████▉     | 78/158 [00:56<00:57,  1.39it/s]#015       0/0     12.7G   0.09838    0.1186   0.06966        27      1600:  50%|█████     | 79/158 [00:56<01:05,  1.21it/s]#015       0/0     12.7G   0.09829    0.1187   0.06968        26      1600:  50%|█████     | 79/158 [00:56<01:05,  1.21it/s]#015       0/0     12.7G   0.09829    0.1187   0.06968        26      1600:  51%|█████     | 80/158 [00:56<00:54,  1.43it/s]#015       0/0     12.7G   0.09806     0.118   0.06949         3      1600:  51%|█████     | 80/158 [00:57<00:54,  1.43it/s]#015       0/0     12.7G   0.09806     0.118   0.06949         3      1600:  51%|█████▏    | 81/158 [00:57<01:06,  1.16it/s]#015       0/0     12.7G   0.09773    0.1173    0.0696         2      1600:  51%|█████▏    | 81/158 [00:58<01:06,  1.16it/s]#015       0/0     12.7G   0.09773    0.1173    0.0696         2      1600:  52%|█████▏    | 82/158 [00:58<00:55,  1.37it/s]#015       0/0     12.7G   0.09763    0.1167   0.06968         5      1600:  52%|█████▏    | 82/158 [00:59<00:55,  1.37it/s]#015       0/0     12.7G   0.09763    0.1167   0.06968         5      1600:  53%|█████▎    | 83/158 [00:59<01:04,  1.16it/s]#015       0/0     12.7G   0.09755    0.1161   0.06975         7      1600:  53%|█████▎    | 83/158 [00:59<01:04,  1.16it/s]#015       0/0     12.7G   0.09755    0.1161   0.06975         7      1600:  53%|█████▎    | 84/158 [00:59<00:52,  1.41it/s]#015       0/0     12.7G   0.09746    0.1155   0.06981         3      1600:  53%|█████▎    | 84/158 [01:00<00:52,  1.41it/s]#015       0/0     12.7G   0.09746    0.1155   0.06981         3      1600:  54%|█████▍    | 85/158 [01:00<00:55,  1.32it/s]#015       0/0     12.7G   0.09746    0.1158   0.06986        40      1600:  54%|█████▍    | 85/158 [01:01<00:55,  1.32it/s]#015       0/0     12.7G   0.09746    0.1158   0.06986        40      1600:  54%|█████▍    | 86/158 [01:01<00:45,  1.57it/s]#015       0/0     12.7G   0.09715    0.1151   0.06968         2      1600:  54%|█████▍    | 86/158 [01:02<00:45,  1.57it/s]#015       0/0     12.7G   0.09715    0.1151   0.06968         2      1600:  55%|█████▌    | 87/158 [01:02<00:54,  1.31it/s]#015       0/0     12.7G   0.09711    0.1149   0.06974        24      1600:  55%|█████▌    | 87/158 [01:02<00:54,  1.31it/s]#015       0/0     12.7G   0.09711    0.1149   0.06974        24      1600:  56%|█████▌    | 88/158 [01:02<00:44,  1.56it/s]#015       0/0     12.7G   0.09705    0.1145   0.06978        12      1600:  56%|█████▌    | 88/158 [01:03<00:44,  1.56it/s]#015       0/0     12.7G   0.09705    0.1145   0.06978        12      1600:  56%|█████▋    | 89/158 [01:03<00:51,  1.35it/s]#015       0/0     12.7G   0.09711    0.1152   0.06983        58      1600:  56%|█████▋    | 89/158 [01:03<00:51,  1.35it/s]#015       0/0     12.7G   0.09711    0.1152   0.06983        58      1600:  57%|█████▋    | 90/158 [01:03<00:42,  1.59it/s]#015       0/0     12.7G     0.097    0.1148   0.06991        14      1600:  57%|█████▋    | 90/158 [01:04<00:42,  1.59it/s]#015       0/0     12.7G     0.097    0.1148   0.06991        14      1600:  58%|█████▊    | 91/158 [01:04<00:45,  1.48it/s]#015       0/0     12.7G   0.09675    0.1144   0.06976         8      1600:  58%|█████▊    | 91/158 [01:05<00:45,  1.48it/s]#015       0/0     12.7G   0.09675    0.1144   0.06976         8      1600:  58%|█████▊    | 92/158 [01:05<00:38,  1.73it/s]#015       0/0     12.7G   0.09673    0.1143   0.06979        34      1600:  58%|█████▊    | 92/158 [01:05<00:38,  1.73it/s]#015       0/0     12.7G   0.09673    0.1143   0.06979        34      1600:  59%|█████▉    | 93/158 [01:05<00:38,  1.67it/s]#015       0/0     12.7G   0.09664    0.1138   0.06983         4      1600:  59%|█████▉    | 93/158 [01:06<00:38,  1.67it/s]#015       0/0     12.7G   0.09664    0.1138   0.06983         4      1600:  59%|█████▉    | 94/158 [01:06<00:33,  1.89it/s]#015       0/0     12.7G    0.0964    0.1133   0.06986         6      1600:  59%|█████▉    | 94/158 [01:07<00:33,  1.89it/s]#015       0/0     12.7G    0.0964    0.1133   0.06986         6      1600:  60%|██████    | 95/158 [01:07<00:43,  1.45it/s]#015       0/0     12.7G   0.09619    0.1141   0.06971        52      1600:  60%|██████    | 95/158 [01:07<00:43,  1.45it/s]#015       0/0     12.7G   0.09619    0.1141   0.06971        52      1600:  61%|██████    | 96/158 [01:07<00:36,  1.69it/s]#015       0/0     12.7G     0.096    0.1135   0.06958         3      1600:  61%|██████    | 96/158 [01:08<00:36,  1.69it/s]#015       0/0     12.7G     0.096    0.1135   0.06958         3      1600:  61%|██████▏   | 97/158 [01:08<00:43,  1.41it/s]#015       0/0     12.7G   0.09602    0.1135   0.06962        27      1600:  61%|██████▏   | 97/158 [01:08<00:43,  1.41it/s]#015       0/0     12.7G   0.09602    0.1135   0.06962        27      1600:  62%|██████▏   | 98/158 [01:08<00:36,  1.65it/s]#015       0/0     12.7G   0.09596    0.1131   0.06968        15      1600:  62%|██████▏   | 98/158 [01:10<00:36,  1.65it/s]#015       0/0     12.7G   0.09596    0.1131   0.06968        15      1600:  63%|██████▎   | 99/158 [01:10<00:45,  1.29it/s]#015       0/0     12.7G   0.09564    0.1126   0.06976         5      1600:  63%|██████▎   | 99/158 [01:10<00:45,  1.29it/s]#015       0/0     12.7G   0.09564    0.1126   0.06976         5      1600:  63%|██████▎   | 100/158 [01:10<00:37,  1.53it/s]#015       0/0     12.7G   0.09568    0.1137   0.06981        98      1600:  63%|██████▎   | 100/158 [01:11<00:37,  1.53it/s]#015       0/0     12.7G   0.09568    0.1137   0.06981        98      1600:  64%|██████▍   | 101/158 [01:11<00:41,  1.39it/s]#015       0/0     12.7G    0.0957    0.1133   0.06987         9      1600:  64%|██████▍   | 101/158 [01:11<00:41,  1.39it/s]#015       0/0     12.7G    0.0957    0.1133   0.06987         9      1600:  65%|██████▍   | 102/158 [01:11<00:34,  1.63it/s]#015       0/0     12.7G   0.09549    0.1128    0.0699         5      1600:  65%|██████▍   | 102/158 [01:12<00:34,  1.63it/s]#015       0/0     12.7G   0.09549    0.1128    0.0699         5      1600:  65%|██████▌   | 103/158 [01:12<00:45,  1.21it/s]#015       0/0     12.7G   0.09539    0.1127   0.06994        23      1600:  65%|██████▌   | 103/158 [01:13<00:45,  1.21it/s]#015       0/0     12.7G   0.09539    0.1127   0.06994        23      1600:  66%|██████▌   | 104/158 [01:13<00:37,  1.46it/s]#015       0/0     12.7G    0.0953    0.1125   0.06998        17      1600:  66%|██████▌   | 104/158 [01:14<00:37,  1.46it/s]#015       0/0     12.7G    0.0953    0.1125   0.06998        17      1600:  66%|██████▋   | 105/158 [01:14<00:39,  1.35it/s]#015       0/0     12.7G   0.09522    0.1121   0.07003         9      1600:  66%|██████▋   | 105/158 [01:14<00:39,  1.35it/s]#015       0/0     12.7G   0.09522    0.1121   0.07003         9      1600:  67%|██████▋   | 106/158 [01:14<00:32,  1.59it/s]#015       0/0     12.7G   0.09514    0.1119   0.07007        12      1600:  67%|██████▋   | 106/158 [01:15<00:32,  1.59it/s]#015       0/0     12.7G   0.09514    0.1119   0.07007        12      1600:  68%|██████▊   | 107/158 [01:15<00:40,  1.26it/s]#015       0/0     12.7G   0.09482    0.1113   0.06999         2      1600:  68%|██████▊   | 107/158 [01:16<00:40,  1.26it/s]#015       0/0     12.7G   0.09482    0.1113   0.06999         2      1600:  68%|██████▊   | 108/158 [01:16<00:33,  1.51it/s]#015       0/0     12.7G   0.09465    0.1108   0.07008         4      1600:  68%|██████▊   | 108/158 [01:17<00:33,  1.51it/s]#015       0/0     12.7G   0.09465    0.1108   0.07008         4      1600:  69%|██████▉   | 109/158 [01:17<00:37,  1.31it/s]#015       0/0     12.7G   0.09451    0.1106   0.07012        15      1600:  69%|██████▉   | 109/158 [01:17<00:37,  1.31it/s]#015       0/0     12.7G   0.09451    0.1106   0.07012        15      1600:  70%|██████▉   | 110/158 [01:17<00:30,  1.55it/s]#015       0/0     12.7G   0.09446    0.1108   0.07019        29      1600:  70%|██████▉   | 110/158 [01:18<00:30,  1.55it/s]#015       0/0     12.7G   0.09446    0.1108   0.07019        29      1600:  70%|███████   | 111/158 [01:18<00:33,  1.41it/s]#015       0/0     12.7G   0.09435    0.1103   0.07023         5      1600:  70%|███████   | 111/158 [01:18<00:33,  1.41it/s]#015       0/0     12.7G   0.09435    0.1103   0.07023         5      1600:  71%|███████   | 112/158 [01:18<00:27,  1.65it/s]#015       0/0     12.7G   0.09431    0.1102   0.07027        20      1600:  71%|███████   | 112/158 [01:19<00:27,  1.65it/s]#015       0/0     12.7G   0.09431    0.1102   0.07027        20      1600:  72%|███████▏  | 113/158 [01:19<00:27,  1.64it/s]#015       0/0     12.7G   0.09425    0.1103   0.07032        28      1600:  72%|███████▏  | 113/158 [01:19<00:27,  1.64it/s]#015       0/0     12.7G   0.09425    0.1103   0.07032        28      1600:  72%|███████▏  | 114/158 [01:19<00:23,  1.87it/s]#015       0/0     12.7G   0.09406    0.1101   0.07036        15      1600:  72%|███████▏  | 114/158 [01:20<00:23,  1.87it/s]#015       0/0     12.7G   0.09406    0.1101   0.07036        15      1600:  73%|███████▎  | 115/158 [01:20<00:28,  1.49it/s]#015       0/0     12.7G   0.09388    0.1097    0.0704         6      1600:  73%|███████▎  | 115/158 [01:21<00:28,  1.49it/s]#015       0/0     12.7G   0.09388    0.1097    0.0704         6      1600:  73%|███████▎  | 116/158 [01:21<00:25,  1.67it/s]#015       0/0     12.7G   0.09381      0.11   0.07042        34      1600:  73%|███████▎  | 116/158 [01:22<00:25,  1.67it/s]#015       0/0     12.7G   0.09381      0.11   0.07042        34      1600:  74%|███████▍  | 117/158 [01:22<00:29,  1.40it/s]#015       0/0     12.7G   0.09351    0.1095   0.07045         5      1600:  74%|███████▍  | 117/158 [01:22<00:29,  1.40it/s]#015       0/0     12.7G   0.09351    0.1095   0.07045         5      1600:  75%|███████▍  | 118/158 [01:22<00:24,  1.64it/s]#015       0/0     12.7G   0.09312     0.109   0.07034         2      1600:  75%|███████▍  | 118/158 [01:23<00:24,  1.64it/s]#015       0/0     12.7G   0.09312     0.109   0.07034         2      1600:  75%|███████▌  | 119/158 [01:23<00:27,  1.40it/s]#015       0/0     12.7G   0.09306    0.1094   0.07038        40      1600:  75%|███████▌  | 119/158 [01:23<00:27,  1.40it/s]#015       0/0     12.7G   0.09306    0.1094   0.07038        40      1600:  76%|███████▌  | 120/158 [01:23<00:23,  1.64it/s]#015       0/0     12.7G   0.09282     0.109   0.07045         7      1600:  76%|███████▌  | 120/158 [01:24<00:23,  1.64it/s]#015       0/0     12.7G   0.09282     0.109   0.07045         7      1600:  77%|███████▋  | 121/158 [01:24<00:28,  1.30it/s]#015       0/0     12.7G   0.09265    0.1085   0.07048         2      1600:  77%|███████▋  | 121/158 [01:25<00:28,  1.30it/s]#015       0/0     12.7G   0.09265    0.1085   0.07048         2      1600:  77%|███████▋  | 122/158 [01:25<00:23,  1.55it/s]#015       0/0     12.7G   0.09267     0.109   0.07051        45      1600:  77%|███████▋  | 122/158 [01:25<00:23,  1.55it/s]#015       0/0     12.7G   0.09267     0.109   0.07051        45      1600:  78%|███████▊  | 123/158 [01:25<00:20,  1.68it/s]#015       0/0     12.7G   0.09257    0.1093   0.07055        47      1600:  78%|███████▊  | 123/158 [01:26<00:20,  1.68it/s]#015       0/0     12.7G   0.09257    0.1093   0.07055        47      1600:  78%|███████▊  | 124/158 [01:26<00:17,  1.89it/s]#015       0/0     12.7G   0.09249    0.1091   0.07055        21      1600:  78%|███████▊  | 124/158 [01:26<00:17,  1.89it/s]#015       0/0     12.7G   0.09249    0.1091   0.07055        21      1600:  79%|███████▉  | 125/158 [01:26<00:20,  1.61it/s]#015       0/0     12.7G   0.09229    0.1086   0.07059         2      1600:  79%|███████▉  | 125/158 [01:27<00:20,  1.61it/s]#015       0/0     12.7G   0.09229    0.1086   0.07059         2      1600:  80%|███████▉  | 126/158 [01:27<00:18,  1.76it/s]#015     \u001b[0m\n",
      "\u001b[34m  0/0     12.7G   0.09228    0.1086   0.07062        25      1600:  80%|███████▉  | 126/158 [01:28<00:18,  1.76it/s]#015       0/0     12.7G   0.09228    0.1086   0.07062        25      1600:  80%|████████  | 127/158 [01:28<00:19,  1.56it/s]#015       0/0     12.7G   0.09218    0.1086   0.07066        23      1600:  80%|████████  | 127/158 [01:28<00:19,  1.56it/s]#015       0/0     12.7G   0.09218    0.1086   0.07066        23      1600:  81%|████████  | 128/158 [01:28<00:17,  1.76it/s]#015       0/0     12.7G    0.0921    0.1084   0.07071        12      1600:  81%|████████  | 128/158 [01:29<00:17,  1.76it/s]#015       0/0     12.7G    0.0921    0.1084   0.07071        12      1600:  82%|████████▏ | 129/158 [01:29<00:18,  1.61it/s]#015       0/0     12.7G   0.09195    0.1083   0.07073        35      1600:  82%|████████▏ | 129/158 [01:29<00:18,  1.61it/s]#015       0/0     12.7G   0.09195    0.1083   0.07073        35      1600:  82%|████████▏ | 130/158 [01:29<00:16,  1.65it/s]#015       0/0     12.7G   0.09178    0.1078   0.07072         3      1600:  82%|████████▏ | 130/158 [01:30<00:16,  1.65it/s]#015       0/0     12.7G   0.09178    0.1078   0.07072         3      1600:  83%|████████▎ | 131/158 [01:30<00:19,  1.40it/s]#015       0/0     12.7G   0.09167    0.1075   0.07074        11      1600:  83%|████████▎ | 131/158 [01:31<00:19,  1.40it/s]#015       0/0     12.7G   0.09167    0.1075   0.07074        11      1600:  84%|████████▎ | 132/158 [01:31<00:15,  1.63it/s]#015       0/0     12.7G   0.09154    0.1077   0.07076        33      1600:  84%|████████▎ | 132/158 [01:32<00:15,  1.63it/s]#015       0/0     12.7G   0.09154    0.1077   0.07076        33      1600:  84%|████████▍ | 133/158 [01:32<00:16,  1.48it/s]#015       0/0     12.7G   0.09133    0.1073   0.07079         4      1600:  84%|████████▍ | 133/158 [01:32<00:16,  1.48it/s]#015       0/0     12.7G   0.09133    0.1073   0.07079         4      1600:  85%|████████▍ | 134/158 [01:32<00:15,  1.53it/s]#015       0/0     12.7G   0.09095    0.1068   0.07055         2      1600:  85%|████████▍ | 134/158 [01:33<00:15,  1.53it/s]#015       0/0     12.7G   0.09095    0.1068   0.07055         2      1600:  85%|████████▌ | 135/158 [01:33<00:16,  1.42it/s]#015       0/0     12.7G   0.09071    0.1064   0.07046         4      1600:  85%|████████▌ | 135/158 [01:34<00:16,  1.42it/s]#015       0/0     12.7G   0.09071    0.1064   0.07046         4      1600:  86%|████████▌ | 136/158 [01:34<00:16,  1.35it/s]#015       0/0     12.7G   0.09057    0.1067   0.07034        59      1600:  86%|████████▌ | 136/158 [01:34<00:16,  1.35it/s]#015       0/0     12.7G   0.09057    0.1067   0.07034        59      1600:  87%|████████▋ | 137/158 [01:34<00:13,  1.59it/s]#015       0/0     12.7G    0.0905    0.1071   0.07038        35      1600:  87%|████████▋ | 137/158 [01:35<00:13,  1.59it/s]#015       0/0     12.7G    0.0905    0.1071   0.07038        35      1600:  87%|████████▋ | 138/158 [01:35<00:14,  1.42it/s]#015       0/0     12.7G   0.09042    0.1068   0.07042        10      1600:  87%|████████▋ | 138/158 [01:35<00:14,  1.42it/s]#015       0/0     12.7G   0.09042    0.1068   0.07042        10      1600:  88%|████████▊ | 139/158 [01:35<00:11,  1.60it/s]#015       0/0     12.7G   0.09041    0.1065   0.07045         9      1600:  88%|████████▊ | 139/158 [01:36<00:11,  1.60it/s]#015       0/0     12.7G   0.09041    0.1065   0.07045         9      1600:  89%|████████▊ | 140/158 [01:36<00:11,  1.62it/s]#015       0/0     12.7G   0.09037    0.1062   0.07047        10      1600:  89%|████████▊ | 140/158 [01:37<00:11,  1.62it/s]#015       0/0     12.7G   0.09037    0.1062   0.07047        10      1600:  89%|████████▉ | 141/158 [01:37<00:10,  1.65it/s]#015       0/0     12.7G   0.09033    0.1065   0.07049        39      1600:  89%|████████▉ | 141/158 [01:37<00:10,  1.65it/s]#015       0/0     12.7G   0.09033    0.1065   0.07049        39      1600:  90%|████████▉ | 142/158 [01:37<00:09,  1.66it/s]#015       0/0     12.7G    0.0904    0.1068   0.07052        45      1600:  90%|████████▉ | 142/158 [01:38<00:09,  1.66it/s]#015       0/0     12.7G    0.0904    0.1068   0.07052        45      1600:  91%|█████████ | 143/158 [01:38<00:07,  1.88it/s]#015       0/0     12.7G   0.09035    0.1071   0.07054        36      1600:  91%|█████████ | 143/158 [01:38<00:07,  1.88it/s]#015       0/0     12.7G   0.09035    0.1071   0.07054        36      1600:  91%|█████████ | 144/158 [01:38<00:08,  1.61it/s]#015       0/0     12.7G   0.09025    0.1069   0.07057        15      1600:  91%|█████████ | 144/158 [01:39<00:08,  1.61it/s]#015       0/0     12.7G   0.09025    0.1069   0.07057        15      1600:  92%|█████████▏| 145/158 [01:39<00:07,  1.74it/s]#015       0/0     12.7G   0.09022    0.1081   0.07059       130      1600:  92%|█████████▏| 145/158 [01:40<00:07,  1.74it/s]#015       0/0     12.7G   0.09022    0.1081   0.07059       130      1600:  92%|█████████▏| 146/158 [01:40<00:06,  1.74it/s]#015       0/0     12.7G   0.09017    0.1079    0.0706        14      1600:  92%|█████████▏| 146/158 [01:40<00:06,  1.74it/s]#015       0/0     12.7G   0.09017    0.1079    0.0706        14      1600:  93%|█████████▎| 147/158 [01:40<00:06,  1.57it/s]#015       0/0     12.7G   0.09002    0.1077   0.07061        12      1600:  93%|█████████▎| 147/158 [01:41<00:06,  1.57it/s]#015       0/0     12.7G   0.09002    0.1077   0.07061        12      1600:  94%|█████████▎| 148/158 [01:41<00:05,  1.72it/s]#015       0/0     12.7G   0.08978    0.1074   0.07062         8      1600:  94%|█████████▎| 148/158 [01:42<00:05,  1.72it/s]#015       0/0     12.7G   0.08978    0.1074   0.07062         8      1600:  94%|█████████▍| 149/158 [01:42<00:06,  1.34it/s]#015       0/0     12.7G   0.08966    0.1072   0.07066        18      1600:  94%|█████████▍| 149/158 [01:42<00:06,  1.34it/s]#015       0/0     12.7G   0.08966    0.1072   0.07066        18      1600:  95%|█████████▍| 150/158 [01:42<00:05,  1.59it/s]#015       0/0     12.7G    0.0897    0.1075   0.07067        42      1600:  95%|█████████▍| 150/158 [01:43<00:05,  1.59it/s]#015       0/0     12.7G    0.0897    0.1075   0.07067        42      1600:  96%|█████████▌| 151/158 [01:43<00:03,  1.77it/s]#015       0/0     12.7G    0.0895    0.1075   0.07058        18      1600:  96%|█████████▌| 151/158 [01:44<00:03,  1.77it/s]#015       0/0     12.7G    0.0895    0.1075   0.07058        18      1600:  96%|█████████▌| 152/158 [01:44<00:04,  1.46it/s]#015       0/0     12.7G   0.08944    0.1077   0.07061        28      1600:  96%|█████████▌| 152/158 [01:44<00:04,  1.46it/s]#015       0/0     12.7G   0.08944    0.1077   0.07061        28      1600:  97%|█████████▋| 153/158 [01:44<00:02,  1.69it/s]#015       0/0     12.7G   0.08932    0.1075   0.07062        15      1600:  97%|█████████▋| 153/158 [01:45<00:02,  1.69it/s]#015       0/0     12.7G   0.08932    0.1075   0.07062        15      1600:  97%|█████████▋| 154/158 [01:45<00:02,  1.40it/s]#015       0/0     12.7G   0.08923    0.1073   0.07064        13      1600:  97%|█████████▋| 154/158 [01:45<00:02,  1.40it/s]#015       0/0     12.7G   0.08923    0.1073   0.07064        13      1600:  98%|█████████▊| 155/158 [01:45<00:01,  1.64it/s]#015       0/0     12.7G   0.08915    0.1075   0.07066        29      1600:  98%|█████████▊| 155/158 [01:46<00:01,  1.64it/s]#015       0/0     12.7G   0.08915    0.1075   0.07066        29      1600:  99%|█████████▊| 156/158 [01:46<00:01,  1.57it/s]#015       0/0     12.7G   0.08902    0.1073   0.07057        17      1600:  99%|█████████▊| 156/158 [01:46<00:01,  1.57it/s]#015       0/0     12.7G   0.08902    0.1073   0.07057        17      1600:  99%|█████████▉| 157/158 [01:46<00:00,  1.81it/s]#015       0/0     12.8G   0.08896    0.1072   0.07058        11      1600:  99%|█████████▉| 157/158 [01:47<00:00,  1.81it/s]#015       0/0     12.8G   0.08896    0.1072   0.07058        11      1600: 100%|██████████| 158/158 [01:47<00:00,  2.07it/s]#015       0/0     12.8G   0.08896    0.1072   0.07058        11      1600: 100%|██████████| 158/158 [01:47<00:00,  1.47it/s]\u001b[0m\n",
      "\u001b[34m#015               Class     Images     Labels          P          R     mAP@.5 mAP@.5:.95:   0%|          | 0/18 [00:00<?, ?it/s]#015               Class     Images     Labels          P          R     mAP@.5 mAP@.5:.95:   6%|▌         | 1/18 [00:00<00:04,  3.55it/s]#015               Class     Images     Labels          P          R     mAP@.5 mAP@.5:.95:  11%|█         | 2/18 [00:00<00:04,  3.48it/s]#015               Class     Images     Labels          P          R     mAP@.5 mAP@.5:.95:  17%|█▋        | 3/18 [00:00<00:04,  3.64it/s]#015               Class     Images     Labels          P          R     mAP@.5 mAP@.5:.95:  22%|██▏       | 4/18 [00:01<00:03,  3.85it/s]#015               Class     Images     Labels          P          R     mAP@.5 mAP@.5:.95:  28%|██▊       | 5/18 [00:01<00:03,  4.11it/s]#015               Class     Images     Labels          P          R     mAP@.5 mAP@.5:.95:  33%|███▎      | 6/18 [00:01<00:02,  4.30it/s]#015               Class     Images     Labels          P          R     mAP@.5 mAP@.5:.95:  39%|███▉      | 7/18 [00:01<00:02,  4.45it/s]#015               Class     Images     Labels          P          R     mAP@.5 mAP@.5:.95:  44%|████▍     | 8/18 [00:01<00:02,  4.36it/s]#015               Class     Images     Labels          P          R     mAP@.5 mAP@.5:.95:  50%|█████     | 9/18 [00:02<00:02,  4.36it/s]#015               Class     Images     Labels          P          R     mAP@.5 mAP@.5:.95:  56%|█████▌    | 10/18 [00:02<00:01,  4.44it/s]#015               Class     Images     Labels          P          R     mAP@.5 mAP@.5:.95:  61%|██████    | 11/18 [00:02<00:01,  4.47it/s]#015               Class     Images     Labels          P          R     mAP@.5 mAP@.5:.95:  67%|██████▋   | 12/18 [00:02<00:01,  4.57it/s]#015               Class     Images     Labels          P          R     mAP@.5 mAP@.5:.95:  72%|███████▏  | 13/18 [00:03<00:01,  4.50it/s]#015               Class     Images     Labels          P          R     mAP@.5 mAP@.5:.95:  78%|███████▊  | 14/18 [00:03<00:00,  4.11it/s]#015               Class     Images     Labels          P          R     mAP@.5 mAP@.5:.95:  83%|████████▎ | 15/18 [00:03<00:01,  2.68it/s]#015               Class     Images     Labels          P          R     mAP@.5 mAP@.5:.95:  89%|████████▉ | 16/18 [00:04<00:00,  3.12it/s]#015               Class     Images     Labels          P          R     mAP@.5 mAP@.5:.95:  94%|█████████▍| 17/18 [00:04<00:00,  3.51it/s]#015               Class     Images     Labels          P          R     mAP@.5 mAP@.5:.95: 100%|██████████| 18/18 [00:04<00:00,  3.82it/s]#015               Class     Images     Labels          P          R     mAP@.5 mAP@.5:.95: 100%|██████████| 18/18 [00:04<00:00,  3.92it/s]\n",
      "                 all         72        262     0.0171     0.0654    0.00942    0.00301\u001b[0m\n",
      "\u001b[34m1 epochs completed in 0.032 hours.\u001b[0m\n",
      "\u001b[34mValidating ../../yolov5/runs/train/tutorial/weights/best.pt...\u001b[0m\n",
      "\u001b[34mFusing layers... \u001b[0m\n",
      "\u001b[34mModel Summary: 606 layers, 141149944 parameters, 0 gradients, 221.6 GFLOPs\u001b[0m\n",
      "\u001b[34m#015               Class     Images     Labels          P          R     mAP@.5 mAP@.5:.95:   0%|          | 0/18 [00:00<?, ?it/s]#015               Class     Images     Labels          P          R     mAP@.5 mAP@.5:.95:   6%|▌         | 1/18 [00:00<00:05,  2.96it/s]#015               Class     Images     Labels          P          R     mAP@.5 mAP@.5:.95:  11%|█         | 2/18 [00:00<00:06,  2.61it/s]#015               Class     Images     Labels          P          R     mAP@.5 mAP@.5:.95:  17%|█▋        | 3/18 [00:01<00:05,  2.59it/s]#015               Class     Images     Labels          P          R     mAP@.5 mAP@.5:.95:  22%|██▏       | 4/18 [00:01<00:04,  2.86it/s]#015               Class     Images     Labels          P          R     mAP@.5 mAP@.5:.95:  28%|██▊       | 5/18 [00:01<00:04,  3.18it/s]#015               Class     Images     Labels          P          R     mAP@.5 mAP@.5:.95:  33%|███▎      | 6/18 [00:01<00:03,  3.55it/s]#015               Class     Images     Labels          P          R     mAP@.5 mAP@.5:.95:  39%|███▉      | 7/18 [00:02<00:02,  3.86it/s]#015               Class     Images     Labels          P          R     mAP@.5 mAP@.5:.95:  44%|████▍     | 8/18 [00:02<00:02,  4.17it/s]#015               Class     Images     Labels          P          R     mAP@.5 mAP@.5:.95:  50%|█████     | 9/18 [00:02<00:02,  4.39it/s]#015               Class     Images     Labels          P          R     mAP@.5 mAP@.5:.95:  56%|█████▌    | 10/18 [00:02<00:01,  4.42it/s]#015               Class     Images     Labels          P          R     mAP@.5 mAP@.5:.95:  61%|██████    | 11/18 [00:02<00:01,  4.42it/s]#015               Class     Images     Labels          P          R     mAP@.5 mAP@.5:.95:  67%|██████▋   | 12/18 [00:03<00:01,  4.46it/s]#015               Class     Images     Labels          P          R     mAP@.5 mAP@.5:.95:  72%|███████▏  | 13/18 [00:03<00:01,  4.51it/s]#015               Class     Images     Labels          P          R     mAP@.5 mAP@.5:.95:  78%|███████▊  | 14/18 [00:03<00:00,  4.50it/s]#015               Class     Images     Labels          P          R     mAP@.5 mAP@.5:.95:  83%|████████▎ | 15/18 [00:03<00:00,  4.57it/s]#015               Class     Images     Labels          P          R     mAP@.5 mAP@.5:.95:  89%|████████▉ | 16/18 [00:04<00:00,  4.05it/s]#015               Class     Images     Labels          P          R     mAP@.5 mAP@.5:.95:  94%|█████████▍| 17/18 [00:04<00:00,  4.03it/s]#015               Class     Images     Labels          P          R     mAP@.5 mAP@.5:.95: 100%|██████████| 18/18 [00:04<00:00,  4.14it/s]#015               Class     Images     Labels          P          R     mAP@.5 mAP@.5:.95: 100%|██████████| 18/18 [00:04<00:00,  3.89it/s]\n",
      "                 all         72        262     0.0169     0.0654    0.00937    0.00298\n",
      "         80120175003         72         20          0          0     0.0146    0.00364\n",
      "         80140375001         72         13     0.0224      0.385     0.0117    0.00279\n",
      "         80440170001         72         37          0          0    0.00306    0.00141\n",
      "         80101075001         72         32      0.131     0.0938      0.035     0.0151\n",
      "         80120275003         72          7          0          0          0          0\n",
      "         80400136001         72          5     0.0042        0.2    0.00373    0.00217\n",
      "         80400171501         72         30    0.00869     0.0333    0.00277    0.00139\n",
      "         80400936001         72          6          0          0          0          0\n",
      "         80440152001         72         35          0          0          0          0\n",
      "         80400153001         72         16          0          0          0          0\n",
      "         80440126001         72         18          0          0          0          0\n",
      "         80400371501         72          4          0          0          0          0\n",
      "         80720232001         72          8          0          0    0.00134   0.000454\n",
      "         80440110101         72         10     0.0472        0.1     0.0185    0.00512\n",
      "         80101010101         72          9          0          0     0.0127    0.00622\n",
      "         80400110701         72         10     0.0749        0.3     0.0558     0.0123\n",
      "         80400353001         72          2          0          0          0          0\u001b[0m\n",
      "\u001b[34mResults saved to #033[1m../../yolov5/runs/train/tutorial#033[0m\u001b[0m\n",
      "\u001b[34mOptimizer stripped from ../../yolov5/runs/train/tutorial/weights/last.pt, 284.2MB\u001b[0m\n",
      "\u001b[34mOptimizer stripped from ../../yolov5/runs/train/tutorial/weights/best.pt, 284.2MB\u001b[0m\n",
      "\n",
      "2021-12-20 16:34:54 Uploading - Uploading generated training model\n",
      "2021-12-20 16:35:54 Completed - Training job completed\n",
      "ProfilerReport-1640017427: NoIssuesFound\n",
      "Training seconds: 564\n",
      "Billable seconds: 564\n"
     ]
    }
   ],
   "source": [
    "from sagemaker.estimator import Estimator\n",
    "\n",
    "hyperparameters = {}\n",
    "\n",
    "instance_type = 'ml.p3.2xlarge' #  'ml.p3.2xlarge'\n",
    "\n",
    "estimator = Estimator(role=role,\n",
    "                      instance_count=1,\n",
    "                      instance_type=instance_type,\n",
    "                      image_uri=ecr_image,\n",
    "                      hyperparameters=hyperparameters)\n",
    "\n",
    "estimator.fit(inputs)"
   ]
  },
  {
   "cell_type": "code",
   "execution_count": null,
   "metadata": {},
   "outputs": [
    {
     "name": "stdout",
     "output_type": "stream",
     "text": [
      "---"
     ]
    }
   ],
   "source": [
    "instance_type = \"ml.g4dn.xlarge\"\n",
    "predictor = estimator.deploy(1, instance_type)"
   ]
  },
  {
   "cell_type": "code",
   "execution_count": 40,
   "metadata": {},
   "outputs": [
    {
     "ename": "ModelError",
     "evalue": "An error occurred (ModelError) when calling the InvokeEndpoint operation: Received server error (500) from model with message \"<!DOCTYPE HTML PUBLIC \"-//W3C//DTD HTML 3.2 Final//EN\">\n<title>500 Internal Server Error</title>\n<h1>Internal Server Error</h1>\n<p>The server encountered an internal error and was unable to complete your request. Either the server is overloaded or there is an error in the application.</p>\n\". See https://us-east-2.console.aws.amazon.com/cloudwatch/home?region=us-east-2#logEventViewer:group=/aws/sagemaker/Endpoints/yolov5loc2 in account 847380964353 for more information.",
     "output_type": "error",
     "traceback": [
      "\u001b[0;31m---------------------------------------------------------------------------\u001b[0m",
      "\u001b[0;31mModelError\u001b[0m                                Traceback (most recent call last)",
      "\u001b[0;32m<ipython-input-40-7f437d6e36b5>\u001b[0m in \u001b[0;36m<module>\u001b[0;34m\u001b[0m\n\u001b[1;32m     14\u001b[0m     \u001b[0mEndpointName\u001b[0m\u001b[0;34m=\u001b[0m\u001b[0;34m'yolov5loc2'\u001b[0m\u001b[0;34m,\u001b[0m\u001b[0;34m\u001b[0m\u001b[0;34m\u001b[0m\u001b[0m\n\u001b[1;32m     15\u001b[0m     \u001b[0mBody\u001b[0m\u001b[0;34m=\u001b[0m\u001b[0mbody\u001b[0m\u001b[0;34m,\u001b[0m\u001b[0;34m\u001b[0m\u001b[0;34m\u001b[0m\u001b[0m\n\u001b[0;32m---> 16\u001b[0;31m     \u001b[0mContentType\u001b[0m\u001b[0;34m=\u001b[0m\u001b[0;34m'application/x-image'\u001b[0m\u001b[0;34m,\u001b[0m\u001b[0;34m\u001b[0m\u001b[0;34m\u001b[0m\u001b[0m\n\u001b[0m\u001b[1;32m     17\u001b[0m )\n\u001b[1;32m     18\u001b[0m \u001b[0mbody\u001b[0m \u001b[0;34m=\u001b[0m \u001b[0mjson\u001b[0m\u001b[0;34m.\u001b[0m\u001b[0mloads\u001b[0m\u001b[0;34m(\u001b[0m\u001b[0mresponse\u001b[0m\u001b[0;34m[\u001b[0m\u001b[0;34m\"Body\"\u001b[0m\u001b[0;34m]\u001b[0m\u001b[0;34m.\u001b[0m\u001b[0mread\u001b[0m\u001b[0;34m(\u001b[0m\u001b[0;34m)\u001b[0m\u001b[0;34m.\u001b[0m\u001b[0mdecode\u001b[0m\u001b[0;34m(\u001b[0m\u001b[0;34m)\u001b[0m\u001b[0;34m)\u001b[0m\u001b[0;34m\u001b[0m\u001b[0;34m\u001b[0m\u001b[0m\n",
      "\u001b[0;32m~/anaconda3/envs/python3/lib/python3.6/site-packages/botocore/client.py\u001b[0m in \u001b[0;36m_api_call\u001b[0;34m(self, *args, **kwargs)\u001b[0m\n\u001b[1;32m    389\u001b[0m                     \"%s() only accepts keyword arguments.\" % py_operation_name)\n\u001b[1;32m    390\u001b[0m             \u001b[0;31m# The \"self\" in this scope is referring to the BaseClient.\u001b[0m\u001b[0;34m\u001b[0m\u001b[0;34m\u001b[0m\u001b[0;34m\u001b[0m\u001b[0m\n\u001b[0;32m--> 391\u001b[0;31m             \u001b[0;32mreturn\u001b[0m \u001b[0mself\u001b[0m\u001b[0;34m.\u001b[0m\u001b[0m_make_api_call\u001b[0m\u001b[0;34m(\u001b[0m\u001b[0moperation_name\u001b[0m\u001b[0;34m,\u001b[0m \u001b[0mkwargs\u001b[0m\u001b[0;34m)\u001b[0m\u001b[0;34m\u001b[0m\u001b[0;34m\u001b[0m\u001b[0m\n\u001b[0m\u001b[1;32m    392\u001b[0m \u001b[0;34m\u001b[0m\u001b[0m\n\u001b[1;32m    393\u001b[0m         \u001b[0m_api_call\u001b[0m\u001b[0;34m.\u001b[0m\u001b[0m__name__\u001b[0m \u001b[0;34m=\u001b[0m \u001b[0mstr\u001b[0m\u001b[0;34m(\u001b[0m\u001b[0mpy_operation_name\u001b[0m\u001b[0;34m)\u001b[0m\u001b[0;34m\u001b[0m\u001b[0;34m\u001b[0m\u001b[0m\n",
      "\u001b[0;32m~/anaconda3/envs/python3/lib/python3.6/site-packages/botocore/client.py\u001b[0m in \u001b[0;36m_make_api_call\u001b[0;34m(self, operation_name, api_params)\u001b[0m\n\u001b[1;32m    717\u001b[0m             \u001b[0merror_code\u001b[0m \u001b[0;34m=\u001b[0m \u001b[0mparsed_response\u001b[0m\u001b[0;34m.\u001b[0m\u001b[0mget\u001b[0m\u001b[0;34m(\u001b[0m\u001b[0;34m\"Error\"\u001b[0m\u001b[0;34m,\u001b[0m \u001b[0;34m{\u001b[0m\u001b[0;34m}\u001b[0m\u001b[0;34m)\u001b[0m\u001b[0;34m.\u001b[0m\u001b[0mget\u001b[0m\u001b[0;34m(\u001b[0m\u001b[0;34m\"Code\"\u001b[0m\u001b[0;34m)\u001b[0m\u001b[0;34m\u001b[0m\u001b[0;34m\u001b[0m\u001b[0m\n\u001b[1;32m    718\u001b[0m             \u001b[0merror_class\u001b[0m \u001b[0;34m=\u001b[0m \u001b[0mself\u001b[0m\u001b[0;34m.\u001b[0m\u001b[0mexceptions\u001b[0m\u001b[0;34m.\u001b[0m\u001b[0mfrom_code\u001b[0m\u001b[0;34m(\u001b[0m\u001b[0merror_code\u001b[0m\u001b[0;34m)\u001b[0m\u001b[0;34m\u001b[0m\u001b[0;34m\u001b[0m\u001b[0m\n\u001b[0;32m--> 719\u001b[0;31m             \u001b[0;32mraise\u001b[0m \u001b[0merror_class\u001b[0m\u001b[0;34m(\u001b[0m\u001b[0mparsed_response\u001b[0m\u001b[0;34m,\u001b[0m \u001b[0moperation_name\u001b[0m\u001b[0;34m)\u001b[0m\u001b[0;34m\u001b[0m\u001b[0;34m\u001b[0m\u001b[0m\n\u001b[0m\u001b[1;32m    720\u001b[0m         \u001b[0;32melse\u001b[0m\u001b[0;34m:\u001b[0m\u001b[0;34m\u001b[0m\u001b[0;34m\u001b[0m\u001b[0m\n\u001b[1;32m    721\u001b[0m             \u001b[0;32mreturn\u001b[0m \u001b[0mparsed_response\u001b[0m\u001b[0;34m\u001b[0m\u001b[0;34m\u001b[0m\u001b[0m\n",
      "\u001b[0;31mModelError\u001b[0m: An error occurred (ModelError) when calling the InvokeEndpoint operation: Received server error (500) from model with message \"<!DOCTYPE HTML PUBLIC \"-//W3C//DTD HTML 3.2 Final//EN\">\n<title>500 Internal Server Error</title>\n<h1>Internal Server Error</h1>\n<p>The server encountered an internal error and was unable to complete your request. Either the server is overloaded or there is an error in the application.</p>\n\". See https://us-east-2.console.aws.amazon.com/cloudwatch/home?region=us-east-2#logEventViewer:group=/aws/sagemaker/Endpoints/yolov5loc2 in account 847380964353 for more information."
     ]
    }
   ],
   "source": [
    "import boto3\n",
    "import cv2\n",
    "import time\n",
    "import cv2\n",
    "import json\n",
    "import ast\n",
    "import numpy as np\n",
    "body = b\"\"\n",
    "with open(\"./test.jpg\", \"rb\") as fp:\n",
    "    body = fp.read()\n",
    "# body = cv2.imencode(\".jpg\", frame)[1].tobytes()\n",
    "runtime = boto3.client(\"sagemaker-runtime\",region_name=\"us-east-2\")\n",
    "response = runtime.invoke_endpoint(\n",
    "    EndpointName='yolov5loc2',\n",
    "    Body=body,\n",
    "    ContentType='application/x-image',\n",
    ")\n",
    "body = json.loads(response[\"Body\"].read().decode())\n",
    "print(len(body))\n",
    "print(body)"
   ]
  },
  {
   "cell_type": "markdown",
   "metadata": {},
   "source": [
    "## Optional cleanup\n",
    "When you're done with the endpoint, you should clean it up.\n",
    "\n",
    "All of the training jobs, models and endpoints we created can be viewed through the SageMaker console of your AWS account."
   ]
  },
  {
   "cell_type": "code",
   "execution_count": null,
   "metadata": {},
   "outputs": [],
   "source": [
    "predictor.delete_endpoint()"
   ]
  },
  {
   "cell_type": "markdown",
   "metadata": {},
   "source": [
    "# Reference\n",
    "- [How Amazon SageMaker interacts with your Docker container for training](https://docs.aws.amazon.com/sagemaker/latest/dg/your-algorithms-training-algo.html)\n",
    "- [How Amazon SageMaker interacts with your Docker container for inference](https://docs.aws.amazon.com/sagemaker/latest/dg/your-algorithms-inference-code.html)\n",
    "- [CIFAR-10 Dataset](https://www.cs.toronto.edu/~kriz/cifar.html)\n",
    "- [SageMaker Python SDK](https://github.com/aws/sagemaker-python-sdk)\n",
    "- [Dockerfile](https://docs.docker.com/engine/reference/builder/)\n",
    "- [scikit-bring-your-own](https://github.com/awslabs/amazon-sagemaker-examples/blob/master/advanced_functionality/scikit_bring_your_own/scikit_bring_your_own.ipynb)\n",
    "- [SageMaker PyTorch container](https://github.com/aws/sagemaker-pytorch-container)"
   ]
  }
 ],
 "metadata": {
  "kernelspec": {
   "display_name": "conda_python3",
   "language": "python",
   "name": "conda_python3"
  },
  "language_info": {
   "codemirror_mode": {
    "name": "ipython",
    "version": 3
   },
   "file_extension": ".py",
   "mimetype": "text/x-python",
   "name": "python",
   "nbconvert_exporter": "python",
   "pygments_lexer": "ipython3",
   "version": "3.6.13"
  }
 },
 "nbformat": 4,
 "nbformat_minor": 4
}
